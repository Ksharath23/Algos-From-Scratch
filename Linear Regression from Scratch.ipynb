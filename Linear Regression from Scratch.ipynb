{
 "cells": [
  {
   "cell_type": "markdown",
   "id": "d8b8970d",
   "metadata": {},
   "source": [
    "# Linear Regression"
   ]
  },
  {
   "cell_type": "code",
   "execution_count": 1,
   "id": "31d0c62c",
   "metadata": {},
   "outputs": [],
   "source": [
    "class LinearRegression() :\n",
    "    def __init__( self, learning_rate, iterations ) :        \n",
    "        self.learning_rate = learning_rate        \n",
    "        self.iterations = iterations  \n",
    "    def fit( self, X, Y ) :            \n",
    "        self.m, self.n = X.shape              \n",
    "        self.W = np.zeros( self.n )        \n",
    "        self.b = 0        \n",
    "        self.X = X        \n",
    "        self.Y = Y              \n",
    "        for i in range( self.iterations ) :            \n",
    "            self.update_weights()            \n",
    "        return self\n",
    "      \n",
    "    def update_weights( self ) :           \n",
    "        A = self.X.dot( self.W ) + self.b \n",
    "               \n",
    "        tmp = ( A - self.Y.T )        \n",
    "        tmp = np.reshape( tmp, self.m )        \n",
    "        dW = np.dot( self.X.T, tmp ) / self.m         \n",
    "        db = np.sum( tmp ) / self.m \n",
    "           \n",
    "        self.W = self.W - self.learning_rate * dW    \n",
    "        self.b = self.b - self.learning_rate * db\n",
    "          \n",
    "        return self\n",
    "    def predict( self, X ) :    \n",
    "        Y = X.dot( self.W ) + self.b            \n",
    "        w = self.W\n",
    "        b = self.b\n",
    "        return Y,w,b"
   ]
  },
  {
   "cell_type": "code",
   "execution_count": 2,
   "id": "49f583e6",
   "metadata": {},
   "outputs": [],
   "source": [
    "def mean_squared_error_act(Y_test,Y_pred):\n",
    "    return np.square(np.subtract(Y_test,Y_pred)).mean()"
   ]
  },
  {
   "cell_type": "code",
   "execution_count": 3,
   "id": "8b618fc6",
   "metadata": {},
   "outputs": [],
   "source": [
    "import numpy as np\n",
    "import pandas as pd\n",
    "import matplotlib.pyplot as plt"
   ]
  },
  {
   "cell_type": "code",
   "execution_count": 4,
   "id": "110b6b63",
   "metadata": {},
   "outputs": [],
   "source": [
    "df = pd.read_csv('univariate_linear_regression.csv')"
   ]
  },
  {
   "cell_type": "code",
   "execution_count": 5,
   "id": "6c5ebc7a",
   "metadata": {},
   "outputs": [
    {
     "data": {
      "text/html": [
       "<div>\n",
       "<style scoped>\n",
       "    .dataframe tbody tr th:only-of-type {\n",
       "        vertical-align: middle;\n",
       "    }\n",
       "\n",
       "    .dataframe tbody tr th {\n",
       "        vertical-align: top;\n",
       "    }\n",
       "\n",
       "    .dataframe thead th {\n",
       "        text-align: right;\n",
       "    }\n",
       "</style>\n",
       "<table border=\"1\" class=\"dataframe\">\n",
       "  <thead>\n",
       "    <tr style=\"text-align: right;\">\n",
       "      <th></th>\n",
       "      <th>x</th>\n",
       "      <th>y</th>\n",
       "    </tr>\n",
       "  </thead>\n",
       "  <tbody>\n",
       "    <tr>\n",
       "      <th>0</th>\n",
       "      <td>-1.932</td>\n",
       "      <td>-13.569</td>\n",
       "    </tr>\n",
       "    <tr>\n",
       "      <th>1</th>\n",
       "      <td>-2.953</td>\n",
       "      <td>-19.207</td>\n",
       "    </tr>\n",
       "    <tr>\n",
       "      <th>2</th>\n",
       "      <td>8.879</td>\n",
       "      <td>17.665</td>\n",
       "    </tr>\n",
       "    <tr>\n",
       "      <th>3</th>\n",
       "      <td>9.259</td>\n",
       "      <td>15.835</td>\n",
       "    </tr>\n",
       "    <tr>\n",
       "      <th>4</th>\n",
       "      <td>3.033</td>\n",
       "      <td>-0.495</td>\n",
       "    </tr>\n",
       "  </tbody>\n",
       "</table>\n",
       "</div>"
      ],
      "text/plain": [
       "       x       y\n",
       "0 -1.932 -13.569\n",
       "1 -2.953 -19.207\n",
       "2  8.879  17.665\n",
       "3  9.259  15.835\n",
       "4  3.033  -0.495"
      ]
     },
     "execution_count": 5,
     "metadata": {},
     "output_type": "execute_result"
    }
   ],
   "source": [
    "df.head()"
   ]
  },
  {
   "cell_type": "code",
   "execution_count": 6,
   "id": "3124a4a5",
   "metadata": {},
   "outputs": [
    {
     "data": {
      "text/plain": [
       "Index(['x', 'y'], dtype='object')"
      ]
     },
     "execution_count": 6,
     "metadata": {},
     "output_type": "execute_result"
    }
   ],
   "source": [
    "df.columns"
   ]
  },
  {
   "cell_type": "code",
   "execution_count": 7,
   "id": "76661403",
   "metadata": {},
   "outputs": [],
   "source": [
    "X = df['x']"
   ]
  },
  {
   "cell_type": "code",
   "execution_count": 8,
   "id": "72604a8e",
   "metadata": {},
   "outputs": [],
   "source": [
    "Y = df['y']"
   ]
  },
  {
   "cell_type": "code",
   "execution_count": 9,
   "id": "e0310991",
   "metadata": {},
   "outputs": [],
   "source": [
    "X_act = X.to_numpy()\n",
    "X_act=X_act.reshape((200,1))\n",
    "X_train = X_act[:140]\n",
    "X_test = X_act[140:]\n",
    "Y_act = Y.to_numpy()\n",
    "Y_act = Y_act.reshape((200,1))\n",
    "Y_train = Y_act[:140]\n",
    "Y_test = Y_act[140:].reshape(60,)"
   ]
  },
  {
   "cell_type": "code",
   "execution_count": 10,
   "id": "fa3be6db",
   "metadata": {},
   "outputs": [],
   "source": [
    "model = LinearRegression( learning_rate = 0.001, iterations = 10000 )\n",
    "model.fit( X_train, Y_train)    \n",
    "Y_pred, w,b = model.predict( X_test )"
   ]
  },
  {
   "cell_type": "code",
   "execution_count": 11,
   "id": "e349d6fd",
   "metadata": {},
   "outputs": [
    {
     "name": "stdout",
     "output_type": "stream",
     "text": [
      "1.844659784395927\n"
     ]
    }
   ],
   "source": [
    "print(mean_squared_error_act(Y_test,Y_pred))"
   ]
  },
  {
   "cell_type": "markdown",
   "id": "ff01303e",
   "metadata": {},
   "source": [
    "# Comparing Results with Scikit-Learn"
   ]
  },
  {
   "cell_type": "code",
   "execution_count": 12,
   "id": "01e55b6f",
   "metadata": {},
   "outputs": [],
   "source": [
    "from sklearn.linear_model import LinearRegression"
   ]
  },
  {
   "cell_type": "code",
   "execution_count": 13,
   "id": "31329d33",
   "metadata": {},
   "outputs": [],
   "source": [
    "lm = LinearRegression()"
   ]
  },
  {
   "cell_type": "code",
   "execution_count": 14,
   "id": "e86f9528",
   "metadata": {},
   "outputs": [
    {
     "data": {
      "text/plain": [
       "LinearRegression()"
      ]
     },
     "execution_count": 14,
     "metadata": {},
     "output_type": "execute_result"
    }
   ],
   "source": [
    "lm.fit(X_train,Y_train)"
   ]
  },
  {
   "cell_type": "code",
   "execution_count": 15,
   "id": "3a835593",
   "metadata": {},
   "outputs": [],
   "source": [
    "Y_pred = lm.predict(X_test)"
   ]
  },
  {
   "cell_type": "code",
   "execution_count": 16,
   "id": "79da8862",
   "metadata": {},
   "outputs": [],
   "source": [
    "from sklearn.metrics import mean_squared_error"
   ]
  },
  {
   "cell_type": "code",
   "execution_count": 17,
   "id": "42fc05a3",
   "metadata": {},
   "outputs": [
    {
     "name": "stdout",
     "output_type": "stream",
     "text": [
      "1.8451255340537416\n"
     ]
    }
   ],
   "source": [
    "print(mean_squared_error(Y_test, Y_pred))"
   ]
  }
 ],
 "metadata": {
  "kernelspec": {
   "display_name": "Python 3 (ipykernel)",
   "language": "python",
   "name": "python3"
  },
  "language_info": {
   "codemirror_mode": {
    "name": "ipython",
    "version": 3
   },
   "file_extension": ".py",
   "mimetype": "text/x-python",
   "name": "python",
   "nbconvert_exporter": "python",
   "pygments_lexer": "ipython3",
   "version": "3.9.12"
  }
 },
 "nbformat": 4,
 "nbformat_minor": 5
}
