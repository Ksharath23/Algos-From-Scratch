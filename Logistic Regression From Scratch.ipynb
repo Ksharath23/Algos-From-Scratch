{
 "cells": [
  {
   "cell_type": "markdown",
   "id": "bdf20a06",
   "metadata": {},
   "source": [
    "# Logistic Regression"
   ]
  },
  {
   "cell_type": "code",
   "execution_count": 1,
   "id": "607e2ab3",
   "metadata": {},
   "outputs": [],
   "source": [
    "class LogitRegression() :\n",
    "    def __init__( self, learning_rate, iterations ) :        \n",
    "        self.learning_rate = learning_rate        \n",
    "        self.iterations = iterations  \n",
    "    def fit( self, X, Y ) :            \n",
    "        self.m, self.n = X.shape              \n",
    "        self.W = np.zeros( self.n )        \n",
    "        self.b = 0        \n",
    "        self.X = X        \n",
    "        self.Y = Y              \n",
    "        for i in range( self.iterations ) :            \n",
    "            self.update_weights()            \n",
    "        return self\n",
    "      \n",
    "    def update_weights( self ) :           \n",
    "        A = 1 / ( 1 + np.exp( - ( self.X.dot( self.W ) + self.b ) ) )\n",
    "        \n",
    "        tmp = ( A - self.Y.T )        \n",
    "        tmp = np.reshape( tmp, self.m )        \n",
    "        dW = np.dot( self.X.T, tmp ) / self.m         \n",
    "        db = np.sum( tmp ) / self.m \n",
    "           \n",
    "        self.W = self.W - self.learning_rate * dW    \n",
    "        self.b = self.b - self.learning_rate * db\n",
    "        \n",
    "        return self\n",
    "    def predict( self, X ) :    \n",
    "        Z = 1 / ( 1 + np.exp( - ( X.dot( self.W ) + self.b ) ) )        \n",
    "        Y = np.where( Z > 0.5, 1, 0 )      \n",
    "        w = self.W\n",
    "        b = self.b\n",
    "        return Y, w,b"
   ]
  },
  {
   "cell_type": "code",
   "execution_count": 22,
   "id": "d00b8a8a",
   "metadata": {},
   "outputs": [],
   "source": [
    "def true_positive(actual, prediction):\n",
    "    tp = 0\n",
    "    for act, pred in zip(actual, prediction):\n",
    "        if act == 1 and pred == 1:\n",
    "            tp +=1\n",
    "    return tp\n",
    "\n",
    "def true_negative(actual, prediction):\n",
    "    tn = 0\n",
    "    for act, pred in zip(actual, prediction):\n",
    "        if act == 0 and pred == 0:\n",
    "            tn +=1\n",
    "    return tn\n",
    "\n",
    "def false_positive(actual, prediction):\n",
    "    fp = 0\n",
    "    for act, pred in zip(actual, prediction):\n",
    "        if act == 0 and pred == 1:\n",
    "            fp +=1\n",
    "    return fp\n",
    "\n",
    "def false_negative(actual, prediction):\n",
    "    fn = 0\n",
    "    for act, pred in zip(actual, prediction):\n",
    "        if act == 1 and pred == 0:\n",
    "            fn +=1\n",
    "    return fn\n",
    "\n",
    "def accuracy(actual, prediction):\n",
    "    tp = true_positive(actual, prediction)  \n",
    "    fp = false_positive(actual, prediction)  \n",
    "    fn = false_negative(actual, prediction)  \n",
    "    tn = true_negative(actual, prediction)  \n",
    "    acc_score = (tp + tn)/ (tp + tn + fp + fn)  \n",
    "    return acc_score\n",
    "\n",
    "def precision(actual, prediction):\n",
    "    tp = true_positive(actual, prediction)  \n",
    "    fp = false_positive(actual, prediction)  \n",
    "    prec = tp/ (tp + fp)  \n",
    "    return prec\n",
    "\n",
    "def recall(actual, prediction):\n",
    "    tp = true_positive(actual, prediction)  \n",
    "    fn = false_negative(actual, prediction)  \n",
    "    rec = tp/ (tp + fn)  \n",
    "    return rec\n",
    "\n",
    "def f1(actual, prediction):\n",
    "    p = precision(actual, prediction)\n",
    "    r = recall(actual, prediction)\n",
    "    f1_score = 2 * p * r/ (p + r) \n",
    "    return f1_score"
   ]
  },
  {
   "cell_type": "code",
   "execution_count": 23,
   "id": "09a30981",
   "metadata": {},
   "outputs": [],
   "source": [
    "def plot_decision_boundary(X, w, b):\n",
    "\n",
    "    x1 = [min(X_act[:,0]), max(X_act[:,0])]\n",
    "    m = -w[0]/w[1]\n",
    "    c = -b/w[1]\n",
    "    x2 = np.dot(m,x1) + c\n",
    " \n",
    "    fig = plt.figure(figsize=(10,8))\n",
    "    plt.plot(X_act[:, 0][Y_act==0], X_act[:, 1][Y_act==0], \"g^\")\n",
    "    plt.plot(X_act[:, 0][Y_act==1], X_act[:, 1][Y_act==1], \"bs\")\n",
    "    plt.xlim([-2.5,10])\n",
    "    plt.ylim([-2.5, 10])\n",
    "    plt.xlabel(\"feature 1\")\n",
    "    plt.ylabel(\"feature 2\")\n",
    "    plt.title('Decision Boundary')\n",
    "    plt.plot(x1, x2, 'y-')"
   ]
  },
  {
   "cell_type": "code",
   "execution_count": 24,
   "id": "72cdbdcf",
   "metadata": {},
   "outputs": [],
   "source": [
    "import numpy as np\n",
    "import pandas as pd\n",
    "import matplotlib.pyplot as plt"
   ]
  },
  {
   "cell_type": "code",
   "execution_count": 5,
   "id": "0e327a54",
   "metadata": {},
   "outputs": [],
   "source": [
    "df = pd.read_csv('Logistic_regression_ls.csv')"
   ]
  },
  {
   "cell_type": "code",
   "execution_count": 6,
   "id": "ff43057f",
   "metadata": {},
   "outputs": [
    {
     "data": {
      "text/html": [
       "<div>\n",
       "<style scoped>\n",
       "    .dataframe tbody tr th:only-of-type {\n",
       "        vertical-align: middle;\n",
       "    }\n",
       "\n",
       "    .dataframe tbody tr th {\n",
       "        vertical-align: top;\n",
       "    }\n",
       "\n",
       "    .dataframe thead th {\n",
       "        text-align: right;\n",
       "    }\n",
       "</style>\n",
       "<table border=\"1\" class=\"dataframe\">\n",
       "  <thead>\n",
       "    <tr style=\"text-align: right;\">\n",
       "      <th></th>\n",
       "      <th>x1</th>\n",
       "      <th>x2</th>\n",
       "      <th>label</th>\n",
       "    </tr>\n",
       "  </thead>\n",
       "  <tbody>\n",
       "    <tr>\n",
       "      <th>0</th>\n",
       "      <td>7.395</td>\n",
       "      <td>7.638</td>\n",
       "      <td>1</td>\n",
       "    </tr>\n",
       "    <tr>\n",
       "      <th>1</th>\n",
       "      <td>4.987</td>\n",
       "      <td>6.485</td>\n",
       "      <td>1</td>\n",
       "    </tr>\n",
       "    <tr>\n",
       "      <th>2</th>\n",
       "      <td>5.358</td>\n",
       "      <td>6.499</td>\n",
       "      <td>1</td>\n",
       "    </tr>\n",
       "    <tr>\n",
       "      <th>3</th>\n",
       "      <td>2.036</td>\n",
       "      <td>2.380</td>\n",
       "      <td>0</td>\n",
       "    </tr>\n",
       "    <tr>\n",
       "      <th>4</th>\n",
       "      <td>5.956</td>\n",
       "      <td>7.378</td>\n",
       "      <td>1</td>\n",
       "    </tr>\n",
       "  </tbody>\n",
       "</table>\n",
       "</div>"
      ],
      "text/plain": [
       "      x1     x2  label\n",
       "0  7.395  7.638      1\n",
       "1  4.987  6.485      1\n",
       "2  5.358  6.499      1\n",
       "3  2.036  2.380      0\n",
       "4  5.956  7.378      1"
      ]
     },
     "execution_count": 6,
     "metadata": {},
     "output_type": "execute_result"
    }
   ],
   "source": [
    "df.head()"
   ]
  },
  {
   "cell_type": "code",
   "execution_count": 7,
   "id": "8131a0d4",
   "metadata": {},
   "outputs": [],
   "source": [
    "X = df[['x1','x2']]\n",
    "Y = df['label']"
   ]
  },
  {
   "cell_type": "code",
   "execution_count": 8,
   "id": "e9b8c214",
   "metadata": {},
   "outputs": [
    {
     "data": {
      "text/plain": [
       "(500, 2)"
      ]
     },
     "execution_count": 8,
     "metadata": {},
     "output_type": "execute_result"
    }
   ],
   "source": [
    "X.shape"
   ]
  },
  {
   "cell_type": "code",
   "execution_count": 12,
   "id": "cc6f5d77",
   "metadata": {},
   "outputs": [],
   "source": [
    "X_act = X.to_numpy()\n",
    "X_train = X_act[:400]\n",
    "X_test = X_act[400:]\n",
    "Y_act = Y.to_numpy()\n",
    "Y_train = Y_act[:400]\n",
    "Y_test = Y_act[400:]"
   ]
  },
  {
   "cell_type": "code",
   "execution_count": 13,
   "id": "b3ff5b5b",
   "metadata": {},
   "outputs": [],
   "source": [
    "model = LogitRegression( learning_rate = 0.01, iterations = 10000 )\n",
    "model.fit( X_train, Y_train)    \n",
    "Y_pred, w,b = model.predict( X_test )    "
   ]
  },
  {
   "cell_type": "code",
   "execution_count": 36,
   "id": "03de3897",
   "metadata": {},
   "outputs": [
    {
     "data": {
      "image/png": "[encoded data removed]",
      "text/plain": [
       "<Figure size 720x576 with 1 Axes>"
      ]
     },
     "metadata": {
      "needs_background": "light"
     },
     "output_type": "display_data"
    }
   ],
   "source": [
    "plot_decision_boundary(X, w, b)"
   ]
  },
  {
   "cell_type": "code",
   "execution_count": 27,
   "id": "488f4aa0",
   "metadata": {},
   "outputs": [
    {
     "name": "stdout",
     "output_type": "stream",
     "text": [
      "True Positive = 50\n",
      "True Negative = 50\n",
      "False Positive = 0\n",
      "False Negative = 0\n",
      "accuracy score = 1.0\n",
      "precision  = 1.0\n",
      "recall  = 1.0\n",
      "f1_score  = 1.0\n"
     ]
    }
   ],
   "source": [
    "print(f\"True Positive = {true_positive(Y_test,Y_pred)}\")\n",
    "print(f\"True Negative = {true_negative(Y_test,Y_pred)}\")\n",
    "print(f\"False Positive = {false_positive(Y_test,Y_pred)}\")\n",
    "print(f\"False Negative = {false_negative(Y_test,Y_pred)}\")\n",
    "print(f\"accuracy score = {accuracy(Y_test,Y_pred)}\")\n",
    "print(f\"precision  = {precision(Y_test,Y_pred)}\")\n",
    "print(f\"recall  = {recall(Y_test,Y_pred)}\")\n",
    "print(f\"f1_score  = {f1(Y_test,Y_pred)}\")"
   ]
  },
  {
   "cell_type": "code",
   "execution_count": null,
   "id": "b01f8898",
   "metadata": {},
   "outputs": [],
   "source": []
  },
  {
   "cell_type": "markdown",
   "id": "20ccee73",
   "metadata": {},
   "source": [
    "# Comparing Results with Scikit-Learn"
   ]
  },
  {
   "cell_type": "code",
   "execution_count": 28,
   "id": "1684d423",
   "metadata": {},
   "outputs": [],
   "source": [
    "from sklearn.linear_model import LogisticRegression\n",
    "from sklearn.metrics import confusion_matrix, classification_report"
   ]
  },
  {
   "cell_type": "code",
   "execution_count": 29,
   "id": "e268ae56",
   "metadata": {},
   "outputs": [],
   "source": [
    "log_model = LogisticRegression()"
   ]
  },
  {
   "cell_type": "code",
   "execution_count": 30,
   "id": "20a58038",
   "metadata": {},
   "outputs": [
    {
     "data": {
      "text/plain": [
       "LogisticRegression()"
      ]
     },
     "execution_count": 30,
     "metadata": {},
     "output_type": "execute_result"
    }
   ],
   "source": [
    "log_model.fit(X_train,Y_train)"
   ]
  },
  {
   "cell_type": "code",
   "execution_count": 32,
   "id": "3d516be1",
   "metadata": {},
   "outputs": [],
   "source": [
    "Y_pred = log_model.predict(X_test)"
   ]
  },
  {
   "cell_type": "code",
   "execution_count": 33,
   "id": "e1c5466d",
   "metadata": {},
   "outputs": [
    {
     "name": "stdout",
     "output_type": "stream",
     "text": [
      "              precision    recall  f1-score   support\n",
      "\n",
      "           0       1.00      1.00      1.00        50\n",
      "           1       1.00      1.00      1.00        50\n",
      "\n",
      "    accuracy                           1.00       100\n",
      "   macro avg       1.00      1.00      1.00       100\n",
      "weighted avg       1.00      1.00      1.00       100\n",
      "\n"
     ]
    }
   ],
   "source": [
    "print(classification_report(Y_test,Y_pred))"
   ]
  },
  {
   "cell_type": "code",
   "execution_count": 35,
   "id": "e451be7a",
   "metadata": {},
   "outputs": [
    {
     "name": "stdout",
     "output_type": "stream",
     "text": [
      "[[50  0]\n",
      " [ 0 50]]\n"
     ]
    }
   ],
   "source": [
    "print(confusion_matrix(Y_test,Y_pred))"
   ]
  },
  {
   "cell_type": "code",
   "execution_count": null,
   "id": "712a8fd7",
   "metadata": {},
   "outputs": [],
   "source": []
  }
 ],
 "metadata": {
  "kernelspec": {
   "display_name": "Python 3 (ipykernel)",
   "language": "python",
   "name": "python3"
  },
  "language_info": {
   "codemirror_mode": {
    "name": "ipython",
    "version": 3
   },
   "file_extension": ".py",
   "mimetype": "text/x-python",
   "name": "python",
   "nbconvert_exporter": "python",
   "pygments_lexer": "ipython3",
   "version": "3.9.12"
  }
 },
 "nbformat": 4,
 "nbformat_minor": 5
}
